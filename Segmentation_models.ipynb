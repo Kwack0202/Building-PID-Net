{
 "cells": [
  {
   "attachments": {},
   "cell_type": "markdown",
   "id": "d73d24e3-5c9e-4ade-9e6e-ca6f46a2d914",
   "metadata": {},
   "source": [
    "## Import"
   ]
  },
  {
   "cell_type": "markdown",
   "id": "a702a52d",
   "metadata": {},
   "source": [
    "#### import 1"
   ]
  },
  {
   "cell_type": "code",
   "execution_count": 1,
   "id": "ad9b681e-370a-4cfa-a452-dd2d7f0cd77f",
   "metadata": {},
   "outputs": [],
   "source": [
    "import os\n",
    "import cv2\n",
    "import pandas as pd\n",
    "import numpy as np\n",
    "\n",
    "from PIL import Image\n",
    "import matplotlib.pyplot as plt"
   ]
  },
  {
   "cell_type": "markdown",
   "id": "a5cccdfa",
   "metadata": {},
   "source": [
    "#### import 2"
   ]
  },
  {
   "cell_type": "code",
   "execution_count": 2,
   "id": "c37f8491",
   "metadata": {},
   "outputs": [
    {
     "name": "stdout",
     "output_type": "stream",
     "text": [
      "env: SM_FRAMEWORK=tf.keras\n",
      "Segmentation Models: using `tf.keras` framework.\n"
     ]
    }
   ],
   "source": [
    "%env SM_FRAMEWORK=tf.keras\n",
    "\n",
    "# 패키지 불러오기\n",
    "import os\n",
    "import matplotlib.pyplot as plt \n",
    "import matplotlib.image as mpimg \n",
    "import numpy as np \n",
    "import pandas as pd\n",
    "import random\n",
    "\n",
    "from sklearn.model_selection import train_test_split\n",
    "\n",
    "from PIL import Image\n",
    "\n",
    "import tensorflow as tf\n",
    "from tensorflow import keras\n",
    "from tensorflow.keras import layers\n",
    "from tensorflow.keras.callbacks import ReduceLROnPlateau\n",
    "from tensorflow.keras.optimizers import *\n",
    "from tensorflow.keras.callbacks import ModelCheckpoint, LearningRateScheduler\n",
    "from tensorflow.keras.preprocessing.image import ImageDataGenerator, array_to_img, img_to_array, load_img\n",
    "from tensorflow.keras import backend as keras\n",
    "\n",
    "from glob import glob\n",
    "\n",
    "from segmentation_models import Unet\n",
    "from segmentation_models.metrics import iou_score\n",
    "\n",
    "from scipy import ndimage\n",
    "from tqdm.notebook import tqdm\n",
    "\n",
    "import cv2\n",
    "import cv2 as cv2\n",
    "import multiprocessing\n",
    "import os"
   ]
  },
  {
   "cell_type": "markdown",
   "id": "39b76bb4",
   "metadata": {},
   "source": [
    "#### Gpu"
   ]
  },
  {
   "cell_type": "code",
   "execution_count": 3,
   "id": "b106993b",
   "metadata": {},
   "outputs": [
    {
     "name": "stdout",
     "output_type": "stream",
     "text": [
      "2.10.0\n"
     ]
    }
   ],
   "source": [
    "import tensorflow as tf\n",
    "\n",
    "print(tf.__version__)"
   ]
  },
  {
   "cell_type": "code",
   "execution_count": 4,
   "id": "0f6d55f8",
   "metadata": {},
   "outputs": [
    {
     "name": "stdout",
     "output_type": "stream",
     "text": [
      "1 Physical GPUs, 1 Logical GPUs\n"
     ]
    }
   ],
   "source": [
    "gpus = tf.config.experimental.list_physical_devices('GPU')\n",
    "if gpus:\n",
    "  # Restrict TensorFlow to only allocate 1GB of memory on the first GPU\n",
    "  try:\n",
    "    tf.config.experimental.set_virtual_device_configuration(\n",
    "        gpus[0],\n",
    "        [tf.config.experimental.VirtualDeviceConfiguration(memory_limit=1024 * 13)])\n",
    "    logical_gpus = tf.config.experimental.list_logical_devices('GPU')\n",
    "    print(len(gpus), \"Physical GPUs,\", len(logical_gpus), \"Logical GPUs\")\n",
    "  except RuntimeError as e:\n",
    "    # Virtual devices must be set before GPUs have been initialized\n",
    "    print(e)"
   ]
  },
  {
   "cell_type": "code",
   "execution_count": 5,
   "id": "76813b31",
   "metadata": {},
   "outputs": [
    {
     "name": "stdout",
     "output_type": "stream",
     "text": [
      "[name: \"/device:CPU:0\"\n",
      "device_type: \"CPU\"\n",
      "memory_limit: 268435456\n",
      "locality {\n",
      "}\n",
      "incarnation: 16034271016335211611\n",
      "xla_global_id: -1\n",
      ", name: \"/device:GPU:0\"\n",
      "device_type: \"GPU\"\n",
      "memory_limit: 13958643712\n",
      "locality {\n",
      "  bus_id: 1\n",
      "  links {\n",
      "  }\n",
      "}\n",
      "incarnation: 10954108956229700946\n",
      "physical_device_desc: \"device: 0, name: NVIDIA GeForce RTX 4080, pci bus id: 0000:07:00.0, compute capability: 8.9\"\n",
      "xla_global_id: 416903419\n",
      "]\n"
     ]
    }
   ],
   "source": [
    "from tensorflow.python.client import device_lib\n",
    "\n",
    "print(device_lib.list_local_devices())"
   ]
  },
  {
   "cell_type": "code",
   "execution_count": 6,
   "id": "70c947b1",
   "metadata": {},
   "outputs": [],
   "source": [
    "import os\n",
    "os.environ[\"KMP_DUPLICATE_LIB_OK\"]=\"TRUE\""
   ]
  },
  {
   "cell_type": "markdown",
   "id": "d1281fb1",
   "metadata": {},
   "source": [
    "## Hyper parameter & Data Set"
   ]
  },
  {
   "cell_type": "code",
   "execution_count": 7,
   "id": "977a16d0",
   "metadata": {},
   "outputs": [],
   "source": [
    "# 하이퍼 파라미터\n",
    "image_height = 256\n",
    "image_width = 256\n",
    "\n",
    "batch_size = 16\n",
    "epoch = 20\n",
    "\n",
    "backbone = 'resnet101'\n",
    "threshold = '(0~5]'\n",
    "\n",
    "LR = 1e-4\n",
    "optim = tf.keras.optimizers.Adam(LR)"
   ]
  },
  {
   "cell_type": "code",
   "execution_count": 8,
   "id": "8fcec3b0",
   "metadata": {},
   "outputs": [],
   "source": [
    "from tensorflow.keras.preprocessing.image import ImageDataGenerator\n",
    "\n",
    "# 데이터 경로 설정\n",
    "train_image_dir = f'./train/img{threshold}/'\n",
    "train_mask_dir = f'./train/mask{threshold}/'\n",
    "\n",
    "valid_image_dir = f'./valid/img/'\n",
    "valid_mask_dir = f'./valid/mask/'\n",
    "\n",
    "# 이미지 데이터 생성을 위한 ImageDataGenerator 설정\n",
    "image_datagen = ImageDataGenerator(rescale=1./255)  # 이미지를 0-1 범위로 정규화"
   ]
  },
  {
   "cell_type": "code",
   "execution_count": null,
   "id": "07404f73",
   "metadata": {},
   "outputs": [],
   "source": [
    "# 원본 이미지 및 마스킹 이미지 불러오기\n",
    "train_image_generator = image_datagen.flow_from_directory(\n",
    "    train_image_dir,\n",
    "    target_size=(image_height, image_width),\n",
    "    class_mode=None,\n",
    "    batch_size = batch_size,\n",
    "    seed=42\n",
    ")\n",
    "\n",
    "train_mask_generator = image_datagen.flow_from_directory(\n",
    "    train_mask_dir,\n",
    "    target_size=(image_height, image_width),\n",
    "    class_mode=None,\n",
    "    batch_size = batch_size,\n",
    "    seed=42,\n",
    ")\n",
    "\n",
    "valid_image_generator = image_datagen.flow_from_directory(\n",
    "    valid_image_dir,\n",
    "    target_size=(image_height, image_width),\n",
    "    class_mode=None,\n",
    "    batch_size = batch_size,\n",
    "    shuffle=False,\n",
    "    seed=42\n",
    ")\n",
    "\n",
    "valid_mask_generator = image_datagen.flow_from_directory(\n",
    "    valid_mask_dir,\n",
    "    target_size=(image_height, image_width),\n",
    "    class_mode=None,\n",
    "    batch_size = batch_size,\n",
    "    shuffle=False,\n",
    "    seed=42,\n",
    ")"
   ]
  },
  {
   "cell_type": "code",
   "execution_count": 10,
   "id": "4d4f9823",
   "metadata": {},
   "outputs": [],
   "source": [
    "# 학습 데이터 생성기\n",
    "train_generator = zip(train_image_generator, train_mask_generator)\n",
    "\n",
    "# 검증 데이터 생성기\n",
    "valid_generator = zip(valid_image_generator, valid_mask_generator)\n"
   ]
  },
  {
   "cell_type": "code",
   "execution_count": 11,
   "id": "4d09e6d4",
   "metadata": {},
   "outputs": [],
   "source": [
    "import math\n",
    "\n",
    "train_step = math.ceil(train_image_generator.n / batch_size)\n",
    "valid_step = math.ceil(valid_image_generator.n / batch_size)"
   ]
  },
  {
   "attachments": {},
   "cell_type": "markdown",
   "id": "74685004",
   "metadata": {},
   "source": [
    "## Model Training (train, valid)"
   ]
  },
  {
   "cell_type": "code",
   "execution_count": 12,
   "id": "28510290",
   "metadata": {},
   "outputs": [],
   "source": [
    "import segmentation_models as sm\n",
    "\n",
    "from segmentation_models import PSPNet\n",
    "from segmentation_models import FPN\n",
    "from segmentation_models import Linknet\n",
    "from segmentation_models import Unet"
   ]
  },
  {
   "cell_type": "code",
   "execution_count": 13,
   "id": "5fbf2dea",
   "metadata": {},
   "outputs": [],
   "source": [
    "base_model = Unet(backbone_name=backbone, \n",
    "                  encoder_weights='imagenet', \n",
    "                  encoder_freeze=True, \n",
    "                  activation=\"sigmoid\", \n",
    "                  classes = 1)\n",
    "model = base_model"
   ]
  },
  {
   "cell_type": "code",
   "execution_count": 14,
   "id": "04bfbe3e",
   "metadata": {},
   "outputs": [],
   "source": [
    "# optimizer\n",
    "LR = 1e-4\n",
    "optim = tf.keras.optimizers.Adam(LR)\n",
    "\n",
    "# loss\n",
    "dice_loss = sm.losses.DiceLoss()\n",
    "# Jaccard_loss = sm.losses.JaccardLoss()\n",
    "total_loss = dice_loss # + Jaccard_loss\n",
    "\n",
    "total_metrics=[sm.metrics.iou_score, sm.metrics.f1_score]"
   ]
  },
  {
   "cell_type": "code",
   "execution_count": 15,
   "id": "1c6a2076",
   "metadata": {},
   "outputs": [],
   "source": [
    "# 모델 컴파일\n",
    "model.compile(optimizer=optim, loss=total_loss, metrics=total_metrics)"
   ]
  },
  {
   "cell_type": "code",
   "execution_count": 16,
   "id": "f81bf7d6",
   "metadata": {},
   "outputs": [],
   "source": [
    "callbacks = [\n",
    "    tf.keras.callbacks.ModelCheckpoint(f'./model/{backbone}.h5', \n",
    "                                       save_weights_only=True, \n",
    "                                       save_best_only=True, \n",
    "                                       monitor='val_iou_score', \n",
    "                                       mode='max'),\n",
    "    tf.keras.callbacks.ReduceLROnPlateau(),\n",
    "]"
   ]
  },
  {
   "cell_type": "code",
   "execution_count": 17,
   "id": "b7ab321f",
   "metadata": {},
   "outputs": [
    {
     "name": "stdout",
     "output_type": "stream",
     "text": [
      "Epoch 1/20\n"
     ]
    },
    {
     "name": "stdout",
     "output_type": "stream",
     "text": [
      "846/846 [==============================] - 148s 163ms/step - loss: 0.5048 - iou_score: 0.3964 - f1-score: 0.5591 - val_loss: 0.6478 - val_iou_score: 0.3076 - val_f1-score: 0.4285 - lr: 1.0000e-04\n",
      "Epoch 2/20\n",
      "846/846 [==============================] - 136s 161ms/step - loss: 0.3648 - iou_score: 0.5360 - f1-score: 0.6969 - val_loss: 0.4538 - val_iou_score: 0.4710 - val_f1-score: 0.5955 - lr: 1.0000e-04\n",
      "Epoch 3/20\n",
      "846/846 [==============================] - 136s 161ms/step - loss: 0.3290 - iou_score: 0.5750 - f1-score: 0.7292 - val_loss: 0.4552 - val_iou_score: 0.4937 - val_f1-score: 0.6146 - lr: 1.0000e-04\n",
      "Epoch 4/20\n",
      "846/846 [==============================] - 136s 161ms/step - loss: 0.3071 - iou_score: 0.5994 - f1-score: 0.7487 - val_loss: 0.4219 - val_iou_score: 0.5117 - val_f1-score: 0.6310 - lr: 1.0000e-04\n",
      "Epoch 5/20\n",
      "846/846 [==============================] - 136s 161ms/step - loss: 0.2915 - iou_score: 0.6169 - f1-score: 0.7622 - val_loss: 0.4162 - val_iou_score: 0.5225 - val_f1-score: 0.6410 - lr: 1.0000e-04\n",
      "Epoch 6/20\n",
      "846/846 [==============================] - 136s 160ms/step - loss: 0.2783 - iou_score: 0.6314 - f1-score: 0.7733 - val_loss: 0.4221 - val_iou_score: 0.5208 - val_f1-score: 0.6356 - lr: 1.0000e-04\n",
      "Epoch 7/20\n",
      "846/846 [==============================] - 136s 160ms/step - loss: 0.2668 - iou_score: 0.6449 - f1-score: 0.7834 - val_loss: 0.4099 - val_iou_score: 0.5306 - val_f1-score: 0.6488 - lr: 1.0000e-04\n",
      "Epoch 8/20\n",
      "846/846 [==============================] - 137s 162ms/step - loss: 0.2583 - iou_score: 0.6543 - f1-score: 0.7903 - val_loss: 0.4113 - val_iou_score: 0.5296 - val_f1-score: 0.6447 - lr: 1.0000e-04\n",
      "Epoch 9/20\n",
      "846/846 [==============================] - 137s 162ms/step - loss: 0.2477 - iou_score: 0.6666 - f1-score: 0.7993 - val_loss: 0.4061 - val_iou_score: 0.5360 - val_f1-score: 0.6516 - lr: 1.0000e-04\n",
      "Epoch 10/20\n",
      "846/846 [==============================] - 137s 161ms/step - loss: 0.2383 - iou_score: 0.6774 - f1-score: 0.8071 - val_loss: 0.4109 - val_iou_score: 0.5242 - val_f1-score: 0.6403 - lr: 1.0000e-04\n",
      "Epoch 11/20\n",
      "846/846 [==============================] - 137s 162ms/step - loss: 0.2322 - iou_score: 0.6848 - f1-score: 0.8123 - val_loss: 0.4154 - val_iou_score: 0.5218 - val_f1-score: 0.6387 - lr: 1.0000e-04\n",
      "Epoch 12/20\n",
      "846/846 [==============================] - 137s 162ms/step - loss: 0.2241 - iou_score: 0.6942 - f1-score: 0.8190 - val_loss: 0.4063 - val_iou_score: 0.5375 - val_f1-score: 0.6523 - lr: 1.0000e-04\n",
      "Epoch 13/20\n",
      "846/846 [==============================] - 138s 163ms/step - loss: 0.2175 - iou_score: 0.7019 - f1-score: 0.8244 - val_loss: 0.4056 - val_iou_score: 0.5472 - val_f1-score: 0.6606 - lr: 1.0000e-04\n",
      "Epoch 14/20\n",
      "846/846 [==============================] - 137s 162ms/step - loss: 0.2134 - iou_score: 0.7069 - f1-score: 0.8278 - val_loss: 0.4052 - val_iou_score: 0.5400 - val_f1-score: 0.6552 - lr: 1.0000e-04\n",
      "Epoch 15/20\n",
      "846/846 [==============================] - 137s 162ms/step - loss: 0.2056 - iou_score: 0.7164 - f1-score: 0.8343 - val_loss: 0.3985 - val_iou_score: 0.5496 - val_f1-score: 0.6633 - lr: 1.0000e-04\n",
      "Epoch 16/20\n",
      "846/846 [==============================] - 137s 162ms/step - loss: 0.2008 - iou_score: 0.7222 - f1-score: 0.8382 - val_loss: 0.3939 - val_iou_score: 0.5568 - val_f1-score: 0.6699 - lr: 1.0000e-04\n",
      "Epoch 17/20\n",
      "846/846 [==============================] - 136s 161ms/step - loss: 0.1952 - iou_score: 0.7290 - f1-score: 0.8428 - val_loss: 0.4044 - val_iou_score: 0.5476 - val_f1-score: 0.6613 - lr: 1.0000e-04\n",
      "Epoch 18/20\n",
      "846/846 [==============================] - 137s 162ms/step - loss: 0.1927 - iou_score: 0.7322 - f1-score: 0.8449 - val_loss: 0.4086 - val_iou_score: 0.5504 - val_f1-score: 0.6625 - lr: 1.0000e-04\n",
      "Epoch 19/20\n",
      "846/846 [==============================] - 136s 161ms/step - loss: 0.1874 - iou_score: 0.7386 - f1-score: 0.8493 - val_loss: 0.4018 - val_iou_score: 0.5542 - val_f1-score: 0.6665 - lr: 1.0000e-04\n",
      "Epoch 20/20\n",
      "846/846 [==============================] - 136s 161ms/step - loss: 0.1832 - iou_score: 0.7439 - f1-score: 0.8528 - val_loss: 0.4103 - val_iou_score: 0.5535 - val_f1-score: 0.6658 - lr: 1.0000e-04\n"
     ]
    }
   ],
   "source": [
    "# Model Fitting\n",
    "hist = model.fit(train_generator,\n",
    "                 steps_per_epoch = train_step,\n",
    "                 epochs = epoch,\n",
    "                 callbacks=callbacks,\n",
    "                 validation_data = valid_generator,\n",
    "                 validation_steps = valid_step)"
   ]
  },
  {
   "cell_type": "code",
   "execution_count": null,
   "metadata": {},
   "outputs": [],
   "source": [
    "model.save('./model/final_{backbone}.h5')"
   ]
  },
  {
   "cell_type": "code",
   "execution_count": 18,
   "id": "4a765750",
   "metadata": {},
   "outputs": [],
   "source": [
    "loss, iou_score, f1_score, val_loss, val_iou_score, val_f1_score, lr = hist.history.values()"
   ]
  },
  {
   "cell_type": "code",
   "execution_count": 19,
   "id": "b382e732",
   "metadata": {},
   "outputs": [
    {
     "data": {
      "image/png": "[encoded data removed]",
      "text/plain": [
       "<Figure size 2000x800 with 3 Axes>"
      ]
     },
     "metadata": {},
     "output_type": "display_data"
    }
   ],
   "source": [
    "plt.figure(figsize=(20,8))\n",
    "\n",
    "plt.subplot(1,3,1)\n",
    "plt.title(\"Model Loss\")\n",
    "plt.plot(loss, label=\"Training\")\n",
    "plt.plot(val_loss, label=\"Validation\")\n",
    "plt.legend()\n",
    "plt.grid()\n",
    "\n",
    "plt.subplot(1,3,2)\n",
    "plt.title(\"Model IoU\")\n",
    "plt.plot(iou_score, label=\"Training\")\n",
    "plt.plot(val_iou_score, label=\"Validation\")\n",
    "plt.legend()\n",
    "plt.grid()\n",
    "\n",
    "plt.subplot(1,3,3)\n",
    "plt.title(\"Model f1-score (dice_coefficient)\")\n",
    "plt.plot(f1_score, label=\"Training\")\n",
    "plt.plot(val_f1_score, label=\"Validation\")\n",
    "plt.legend()\n",
    "plt.grid()\n",
    "\n",
    "plt.show()"
   ]
  },
  {
   "cell_type": "markdown",
   "id": "3dd8fb22",
   "metadata": {},
   "source": [
    "## Model Evaluation"
   ]
  },
  {
   "cell_type": "code",
   "execution_count": 16,
   "id": "a6d9a552",
   "metadata": {},
   "outputs": [],
   "source": [
    "from tensorflow.keras.models import load_model\n",
    "\n",
    "# 모델 불러오기\n",
    "model = load_model('./model/final_{backbone}.h5', custom_objects={'dice_loss': dice_loss, 'iou_score': sm.metrics.iou_score})"
   ]
  },
  {
   "cell_type": "code",
   "execution_count": null,
   "id": "bb6b38ca",
   "metadata": {},
   "outputs": [],
   "source": [
    "final_image_generator = image_datagen.flow_from_directory(\n",
    "    valid_image_dir,\n",
    "    target_size=(image_height, image_width),\n",
    "    class_mode=None,\n",
    "    batch_size = 1,\n",
    "    shuffle=False,\n",
    "    seed=42\n",
    ")\n",
    "\n",
    "final_mask_generator = image_datagen.flow_from_directory(\n",
    "    valid_mask_dir,\n",
    "    target_size=(image_height, image_width),\n",
    "    class_mode=None,\n",
    "    batch_size = 1,\n",
    "    shuffle=False,\n",
    "    seed=42,\n",
    ")"
   ]
  },
  {
   "cell_type": "code",
   "execution_count": null,
   "metadata": {},
   "outputs": [],
   "source": [
    "# 검증 데이터 생성기\n",
    "final_generator = zip(final_image_generator, final_mask_generator)\n",
    "final_step = math.ceil(final_image_generator.n / batch_size)"
   ]
  },
  {
   "cell_type": "code",
   "execution_count": null,
   "metadata": {},
   "outputs": [],
   "source": [
    "scores = model.evaluate(final_generator, steps=final_step)\n",
    "\n",
    "output_dir = f\"./results/\"\n",
    "os.makedirs(output_dir, exist_ok=True)\n",
    "\n",
    "output_file = os.path.join(output_dir, f\"{backbone}_evaluation_results.txt\")\n",
    "with open(output_file, \"w\") as f:\n",
    "    f.write(\"Loss: {:.5}\\n\".format(scores[0]))\n",
    "    for metric, value in zip(total_metrics, scores[1:]):\n",
    "        f.write(\"final Data mean {}: {:.5}\\n\".format(metric.__name__, value))\n",
    "\n",
    "print(\"Evaluation results saved to:\", output_file)"
   ]
  }
 ],
 "metadata": {
  "kernelspec": {
   "display_name": "PyTorch 1.14 (NGC 22.12/Python 3.8) on Backend.AI",
   "language": "python",
   "name": "python3"
  },
  "language_info": {
   "codemirror_mode": {
    "name": "ipython",
    "version": 3
   },
   "file_extension": ".py",
   "mimetype": "text/x-python",
   "name": "python",
   "nbconvert_exporter": "python",
   "pygments_lexer": "ipython3",
   "version": "3.7.16"
  }
 },
 "nbformat": 4,
 "nbformat_minor": 5
}
